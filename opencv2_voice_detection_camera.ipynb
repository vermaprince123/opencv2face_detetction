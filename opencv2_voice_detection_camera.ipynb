{
 "cells": [
  {
   "cell_type": "code",
   "execution_count": 2,
   "id": "7b81508f",
   "metadata": {},
   "outputs": [],
   "source": [
    "import cv2\n",
    "import winsound\n",
    "cam = cv2.VideoCapture(0)\n",
    "\n",
    "while cam.isOpened():\n",
    "    \n",
    "    # Capture image frame-by-frame  \n",
    "    ret, frame1 = cam.read()\n",
    "    ret, frame2 = cam.read()\n",
    "    diff = cv2.absdiff(frame1, frame2)\n",
    "    \n",
    "    \n",
    "    # Our operations on the frame come here  \n",
    "    gray = cv2.cvtColor(diff, cv2.COLOR_RGB2GRAY)\n",
    "    blur = cv2.GaussianBlur(gray, (5, 5), 0)\n",
    "    _, thresh = cv2.threshold(blur, 20, 255, cv2.THRESH_BINARY)\n",
    "    dilated = cv2.dilate(thresh, None, iterations=3)\n",
    "    contours, _ = cv2.findContours(dilated, cv2.RETR_TREE, cv2.CHAIN_APPROX_SIMPLE)\n",
    "   \n",
    "    \n",
    "    for c in contours:\n",
    "        if cv2.contourArea(c) < 5000:\n",
    "            continue\n",
    "        x, y, w, h = cv2.boundingRect(c)\n",
    "        cv2.rectangle(frame1, (x, y), (x+w, y+h), (0, 0, 153), 3)\n",
    "        winsound.PlaySound('alert.wav', winsound.SND_ASYNC)\n",
    "#         winsound.Beep(1000,500)\n",
    "    if cv2.waitKey(1) & 0xFF == ord('q'):\n",
    "         break\n",
    "            \n",
    "            \n",
    "#     cv2.namedWindow(\"WindowName\",cv2.WINDOW_FULLSCREEN)  \n",
    "    cv2.namedWindow(\"Project Camera\", cv2.WND_PROP_FULLSCREEN)\n",
    "    cv2.setWindowProperty(\"Project Camera\",cv2.WND_PROP_FULLSCREEN,cv2.WINDOW_FULLSCREEN)\n",
    "    \n",
    "    cv2.imshow('Project Camera', frame1)\n",
    "cv2.destroyAllWindows()    "
   ]
  },
  {
   "cell_type": "code",
   "execution_count": null,
   "id": "c24a46f8",
   "metadata": {},
   "outputs": [],
   "source": []
  },
  {
   "cell_type": "code",
   "execution_count": null,
   "id": "202d8953",
   "metadata": {},
   "outputs": [],
   "source": []
  },
  {
   "cell_type": "code",
   "execution_count": null,
   "id": "da736e9e",
   "metadata": {},
   "outputs": [],
   "source": []
  }
 ],
 "metadata": {
  "kernelspec": {
   "display_name": "Python 3",
   "language": "python",
   "name": "python3"
  },
  "language_info": {
   "codemirror_mode": {
    "name": "ipython",
    "version": 3
   },
   "file_extension": ".py",
   "mimetype": "text/x-python",
   "name": "python",
   "nbconvert_exporter": "python",
   "pygments_lexer": "ipython3",
   "version": "3.8.8"
  }
 },
 "nbformat": 4,
 "nbformat_minor": 5
}
